{
  "nbformat": 4,
  "nbformat_minor": 0,
  "metadata": {
    "colab": {
      "name": "dice.ipynb",
      "provenance": [],
      "collapsed_sections": [],
      "authorship_tag": "ABX9TyNcpc95W840202HWyFLkA/M",
      "include_colab_link": true
    },
    "kernelspec": {
      "name": "python3",
      "display_name": "Python 3"
    }
  },
  "cells": [
    {
      "cell_type": "markdown",
      "metadata": {
        "id": "view-in-github",
        "colab_type": "text"
      },
      "source": [
        "<a href=\"https://colab.research.google.com/github/Kevalsspatel/simple-Dice-Stimulator/blob/master/dice.ipynb\" target=\"_parent\"><img src=\"https://colab.research.google.com/assets/colab-badge.svg\" alt=\"Open In Colab\"/></a>"
      ]
    },
    {
      "cell_type": "code",
      "metadata": {
        "id": "S2s0JrpgVEjM",
        "colab_type": "code",
        "colab": {}
      },
      "source": [
        "import random"
      ],
      "execution_count": 2,
      "outputs": []
    },
    {
      "cell_type": "code",
      "metadata": {
        "id": "8mqfOJEJZLt4",
        "colab_type": "code",
        "colab": {}
      },
      "source": [
        "print(\"This is a dice stimulator\")\n",
        "\n",
        "while True:\n",
        "    number = random.randint(1,6)\n",
        "\n",
        "    if number == 1:\n",
        "        print(\"----------\")\n",
        "        print(\"|        |\")\n",
        "        print(\"|    O   |\")\n",
        "        print(\"|        |\")\n",
        "        print(\"----------\")\n",
        "        break\n",
        "    if number == 2:\n",
        "        print(\"----------\")\n",
        "        print(\"|        |\")\n",
        "        print(\"| O    O |\")\n",
        "        print(\"|        |\")\n",
        "        print(\"----------\")\n",
        "        break\n",
        "    if number == 3:\n",
        "        print(\"----------\")\n",
        "        print(\"|    O   |\")\n",
        "        print(\"|    O   |\")\n",
        "        print(\"|    O   |\")\n",
        "        print(\"----------\")\n",
        "        break\n",
        "    if number == 4:\n",
        "        print(\"----------\")\n",
        "        print(\"| O    O |\")\n",
        "        print(\"|        |\")\n",
        "        print(\"| O    O |\")\n",
        "        print(\"----------\")\n",
        "        break\n",
        "    if number == 5:\n",
        "        print(\"----------\")\n",
        "        print(\"| O    O |\")\n",
        "        print(\"|    O   |\")\n",
        "        print(\"| O    O |\")\n",
        "        print(\"----------\")\n",
        "        break\n",
        "    if number == 6:\n",
        "        print(\"----------\")\n",
        "        print(\"| O    O |\")\n",
        "        print(\"| O    O |\")\n",
        "        print(\"| O    O |\")\n",
        "        print(\"----------\")\n",
        "        break\n",
        "    "
      ],
      "execution_count": null,
      "outputs": []
    }
  ]
}