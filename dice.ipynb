{
  "nbformat": 4,
  "nbformat_minor": 0,
  "metadata": {
    "colab": {
      "name": "dice.ipynb",
      "provenance": [],
      "collapsed_sections": [],
      "authorship_tag": "ABX9TyMbRdPZHp70Mo2zhifjq0dE"
    },
    "kernelspec": {
      "name": "python3",
      "display_name": "Python 3"
    }
  },
  "cells": [
    {
      "cell_type": "code",
      "metadata": {
        "id": "S2s0JrpgVEjM",
        "colab_type": "code",
        "colab": {}
      },
      "source": [
        "import random"
      ],
      "execution_count": 4,
      "outputs": []
    },
    {
      "cell_type": "code",
      "metadata": {
        "id": "8mqfOJEJZLt4",
        "colab_type": "code",
        "colab": {}
      },
      "source": [
        "print(\"This is a dice stimulator\")\n",
        "x = \"y\"\n",
        "\n",
        "while x == \"y\":\n",
        "    number = random.randint(1,6)\n",
        "\n",
        "    if number == 1:\n",
        "        print(\"----------\")\n",
        "        print(\"|        |\")\n",
        "        print(\"|    O   |\")\n",
        "        print(\"|        |\")\n",
        "        print(\"----------\")\n",
        "        break\n",
        "    if number == 2:\n",
        "        print(\"----------\")\n",
        "        print(\"|        |\")\n",
        "        print(\"| O    O |\")\n",
        "        print(\"|        |\")\n",
        "        print(\"----------\")\n",
        "        break\n",
        "    if number == 3:\n",
        "        print(\"----------\")\n",
        "        print(\"|    O   |\")\n",
        "        print(\"|    O   |\")\n",
        "        print(\"|    O   |\")\n",
        "        print(\"----------\")\n",
        "        break\n",
        "    if number == 4:\n",
        "        print(\"----------\")\n",
        "        print(\"| O    O |\")\n",
        "        print(\"|        |\")\n",
        "        print(\"| O    O |\")\n",
        "        print(\"----------\")\n",
        "        break\n",
        "    if number == 5:\n",
        "        print(\"----------\")\n",
        "        print(\"| O    O |\")\n",
        "        print(\"|    O   |\")\n",
        "        print(\"| O    O |\")\n",
        "        print(\"----------\")\n",
        "        break\n",
        "    if number == 6:\n",
        "        print(\"----------\")\n",
        "        print(\"| O    O |\")\n",
        "        print(\"| O    O |\")\n",
        "        print(\"| O    O |\")\n",
        "        print(\"----------\")\n",
        "        break\n",
        "    "
      ],
      "execution_count": null,
      "outputs": []
    }
  ]
}